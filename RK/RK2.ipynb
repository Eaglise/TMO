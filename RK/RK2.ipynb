{
 "cells": [
  {
   "cell_type": "markdown",
   "id": "7498cc2a",
   "metadata": {},
   "source": [
    "# РК №2\n",
    "\n",
    "### Рыжкова Юлия Николаевна ИУ5-61Б\n",
    "### Вариант 14"
   ]
  },
  {
   "cell_type": "markdown",
   "id": "d03b733e",
   "metadata": {},
   "source": [
    "Задание. Для заданного набора данных (вариант 14) постройте модели регрессии. Для построения моделей используйте методы Линейная регрессия и Случайный лес. Оцените качество моделей на основе подходящих метрик качества (не менее двух метрик). Какие метрики качества Вы использовали и почему? Какие выводы Вы можете сделать о качестве построенных моделей? Для построения моделей необходимо выполнить требуемую предобработку данных: заполнение пропусков, кодирование категориальных признаков, и т.д.\n",
    "\n",
    "Данные: https://www.kaggle.com/noriuk/us-education-datasets-unification-project (файл states_all.csv)"
   ]
  },
  {
   "cell_type": "code",
   "execution_count": 1,
   "id": "4c5a5607",
   "metadata": {},
   "outputs": [],
   "source": [
    "import numpy as np\n",
    "import pandas as pd\n",
    "import matplotlib.pyplot as plt\n",
    "import math\n",
    "import seaborn as sns\n",
    "import scipy\n",
    "import plotly\n",
    "import missingno as msno\n",
    "from numpy import nan\n",
    "from sklearn.impute import SimpleImputer, MissingIndicator\n",
    "from sklearn.model_selection import train_test_split\n",
    "from sklearn.metrics import mean_absolute_error, mean_squared_error, median_absolute_error, r2_score \n",
    "from sklearn.linear_model import LinearRegression\n",
    "from sklearn.ensemble import RandomForestRegressor\n",
    "from sklearn.compose import ColumnTransformer\n",
    "from sklearn.preprocessing import OneHotEncoder\n",
    "from sklearn.preprocessing import LabelEncoder\n",
    "import warnings\n",
    "warnings.filterwarnings('ignore')"
   ]
  },
  {
   "cell_type": "markdown",
   "id": "dd1b40eb",
   "metadata": {},
   "source": [
    "### Загрузим датасет и выведем информацию о нем."
   ]
  },
  {
   "cell_type": "code",
   "execution_count": 2,
   "id": "2a4f0cfe",
   "metadata": {},
   "outputs": [],
   "source": [
    "dataset = pd.read_csv('./Datasets/states_all.csv')"
   ]
  },
  {
   "cell_type": "code",
   "execution_count": 3,
   "id": "e4f53dec",
   "metadata": {},
   "outputs": [
    {
     "data": {
      "text/html": [
       "<div>\n",
       "<style scoped>\n",
       "    .dataframe tbody tr th:only-of-type {\n",
       "        vertical-align: middle;\n",
       "    }\n",
       "\n",
       "    .dataframe tbody tr th {\n",
       "        vertical-align: top;\n",
       "    }\n",
       "\n",
       "    .dataframe thead th {\n",
       "        text-align: right;\n",
       "    }\n",
       "</style>\n",
       "<table border=\"1\" class=\"dataframe\">\n",
       "  <thead>\n",
       "    <tr style=\"text-align: right;\">\n",
       "      <th></th>\n",
       "      <th>PRIMARY_KEY</th>\n",
       "      <th>STATE</th>\n",
       "      <th>YEAR</th>\n",
       "      <th>ENROLL</th>\n",
       "      <th>TOTAL_REVENUE</th>\n",
       "      <th>FEDERAL_REVENUE</th>\n",
       "      <th>STATE_REVENUE</th>\n",
       "      <th>LOCAL_REVENUE</th>\n",
       "      <th>TOTAL_EXPENDITURE</th>\n",
       "      <th>INSTRUCTION_EXPENDITURE</th>\n",
       "      <th>...</th>\n",
       "      <th>GRADES_4_G</th>\n",
       "      <th>GRADES_8_G</th>\n",
       "      <th>GRADES_12_G</th>\n",
       "      <th>GRADES_1_8_G</th>\n",
       "      <th>GRADES_9_12_G</th>\n",
       "      <th>GRADES_ALL_G</th>\n",
       "      <th>AVG_MATH_4_SCORE</th>\n",
       "      <th>AVG_MATH_8_SCORE</th>\n",
       "      <th>AVG_READING_4_SCORE</th>\n",
       "      <th>AVG_READING_8_SCORE</th>\n",
       "    </tr>\n",
       "  </thead>\n",
       "  <tbody>\n",
       "    <tr>\n",
       "      <th>0</th>\n",
       "      <td>1992_ALABAMA</td>\n",
       "      <td>ALABAMA</td>\n",
       "      <td>1992</td>\n",
       "      <td>NaN</td>\n",
       "      <td>2678885.0</td>\n",
       "      <td>304177.0</td>\n",
       "      <td>1659028.0</td>\n",
       "      <td>715680.0</td>\n",
       "      <td>2653798.0</td>\n",
       "      <td>1481703.0</td>\n",
       "      <td>...</td>\n",
       "      <td>57948.0</td>\n",
       "      <td>58025.0</td>\n",
       "      <td>41167.0</td>\n",
       "      <td>NaN</td>\n",
       "      <td>NaN</td>\n",
       "      <td>731634.0</td>\n",
       "      <td>208.0</td>\n",
       "      <td>252.0</td>\n",
       "      <td>207.0</td>\n",
       "      <td>NaN</td>\n",
       "    </tr>\n",
       "    <tr>\n",
       "      <th>1</th>\n",
       "      <td>1992_ALASKA</td>\n",
       "      <td>ALASKA</td>\n",
       "      <td>1992</td>\n",
       "      <td>NaN</td>\n",
       "      <td>1049591.0</td>\n",
       "      <td>106780.0</td>\n",
       "      <td>720711.0</td>\n",
       "      <td>222100.0</td>\n",
       "      <td>972488.0</td>\n",
       "      <td>498362.0</td>\n",
       "      <td>...</td>\n",
       "      <td>9748.0</td>\n",
       "      <td>8789.0</td>\n",
       "      <td>6714.0</td>\n",
       "      <td>NaN</td>\n",
       "      <td>NaN</td>\n",
       "      <td>122487.0</td>\n",
       "      <td>NaN</td>\n",
       "      <td>NaN</td>\n",
       "      <td>NaN</td>\n",
       "      <td>NaN</td>\n",
       "    </tr>\n",
       "    <tr>\n",
       "      <th>2</th>\n",
       "      <td>1992_ARIZONA</td>\n",
       "      <td>ARIZONA</td>\n",
       "      <td>1992</td>\n",
       "      <td>NaN</td>\n",
       "      <td>3258079.0</td>\n",
       "      <td>297888.0</td>\n",
       "      <td>1369815.0</td>\n",
       "      <td>1590376.0</td>\n",
       "      <td>3401580.0</td>\n",
       "      <td>1435908.0</td>\n",
       "      <td>...</td>\n",
       "      <td>55433.0</td>\n",
       "      <td>49081.0</td>\n",
       "      <td>37410.0</td>\n",
       "      <td>NaN</td>\n",
       "      <td>NaN</td>\n",
       "      <td>673477.0</td>\n",
       "      <td>215.0</td>\n",
       "      <td>265.0</td>\n",
       "      <td>209.0</td>\n",
       "      <td>NaN</td>\n",
       "    </tr>\n",
       "    <tr>\n",
       "      <th>3</th>\n",
       "      <td>1992_ARKANSAS</td>\n",
       "      <td>ARKANSAS</td>\n",
       "      <td>1992</td>\n",
       "      <td>NaN</td>\n",
       "      <td>1711959.0</td>\n",
       "      <td>178571.0</td>\n",
       "      <td>958785.0</td>\n",
       "      <td>574603.0</td>\n",
       "      <td>1743022.0</td>\n",
       "      <td>964323.0</td>\n",
       "      <td>...</td>\n",
       "      <td>34632.0</td>\n",
       "      <td>36011.0</td>\n",
       "      <td>27651.0</td>\n",
       "      <td>NaN</td>\n",
       "      <td>NaN</td>\n",
       "      <td>441490.0</td>\n",
       "      <td>210.0</td>\n",
       "      <td>256.0</td>\n",
       "      <td>211.0</td>\n",
       "      <td>NaN</td>\n",
       "    </tr>\n",
       "    <tr>\n",
       "      <th>4</th>\n",
       "      <td>1992_CALIFORNIA</td>\n",
       "      <td>CALIFORNIA</td>\n",
       "      <td>1992</td>\n",
       "      <td>NaN</td>\n",
       "      <td>26260025.0</td>\n",
       "      <td>2072470.0</td>\n",
       "      <td>16546514.0</td>\n",
       "      <td>7641041.0</td>\n",
       "      <td>27138832.0</td>\n",
       "      <td>14358922.0</td>\n",
       "      <td>...</td>\n",
       "      <td>418418.0</td>\n",
       "      <td>363296.0</td>\n",
       "      <td>270675.0</td>\n",
       "      <td>NaN</td>\n",
       "      <td>NaN</td>\n",
       "      <td>5254844.0</td>\n",
       "      <td>208.0</td>\n",
       "      <td>261.0</td>\n",
       "      <td>202.0</td>\n",
       "      <td>NaN</td>\n",
       "    </tr>\n",
       "  </tbody>\n",
       "</table>\n",
       "<p>5 rows × 25 columns</p>\n",
       "</div>"
      ],
      "text/plain": [
       "       PRIMARY_KEY       STATE  YEAR  ENROLL  TOTAL_REVENUE  FEDERAL_REVENUE  \\\n",
       "0     1992_ALABAMA     ALABAMA  1992     NaN      2678885.0         304177.0   \n",
       "1      1992_ALASKA      ALASKA  1992     NaN      1049591.0         106780.0   \n",
       "2     1992_ARIZONA     ARIZONA  1992     NaN      3258079.0         297888.0   \n",
       "3    1992_ARKANSAS    ARKANSAS  1992     NaN      1711959.0         178571.0   \n",
       "4  1992_CALIFORNIA  CALIFORNIA  1992     NaN     26260025.0        2072470.0   \n",
       "\n",
       "   STATE_REVENUE  LOCAL_REVENUE  TOTAL_EXPENDITURE  INSTRUCTION_EXPENDITURE  \\\n",
       "0      1659028.0       715680.0          2653798.0                1481703.0   \n",
       "1       720711.0       222100.0           972488.0                 498362.0   \n",
       "2      1369815.0      1590376.0          3401580.0                1435908.0   \n",
       "3       958785.0       574603.0          1743022.0                 964323.0   \n",
       "4     16546514.0      7641041.0         27138832.0               14358922.0   \n",
       "\n",
       "   ...  GRADES_4_G  GRADES_8_G  GRADES_12_G  GRADES_1_8_G  GRADES_9_12_G  \\\n",
       "0  ...     57948.0     58025.0      41167.0           NaN            NaN   \n",
       "1  ...      9748.0      8789.0       6714.0           NaN            NaN   \n",
       "2  ...     55433.0     49081.0      37410.0           NaN            NaN   \n",
       "3  ...     34632.0     36011.0      27651.0           NaN            NaN   \n",
       "4  ...    418418.0    363296.0     270675.0           NaN            NaN   \n",
       "\n",
       "   GRADES_ALL_G  AVG_MATH_4_SCORE  AVG_MATH_8_SCORE  AVG_READING_4_SCORE  \\\n",
       "0      731634.0             208.0             252.0                207.0   \n",
       "1      122487.0               NaN               NaN                  NaN   \n",
       "2      673477.0             215.0             265.0                209.0   \n",
       "3      441490.0             210.0             256.0                211.0   \n",
       "4     5254844.0             208.0             261.0                202.0   \n",
       "\n",
       "   AVG_READING_8_SCORE  \n",
       "0                  NaN  \n",
       "1                  NaN  \n",
       "2                  NaN  \n",
       "3                  NaN  \n",
       "4                  NaN  \n",
       "\n",
       "[5 rows x 25 columns]"
      ]
     },
     "execution_count": 3,
     "metadata": {},
     "output_type": "execute_result"
    }
   ],
   "source": [
    "dataset.head(5)"
   ]
  },
  {
   "cell_type": "code",
   "execution_count": 4,
   "id": "6fed9013",
   "metadata": {},
   "outputs": [
    {
     "name": "stdout",
     "output_type": "stream",
     "text": [
      "<class 'pandas.core.frame.DataFrame'>\n",
      "RangeIndex: 1715 entries, 0 to 1714\n",
      "Data columns (total 25 columns):\n",
      " #   Column                        Non-Null Count  Dtype  \n",
      "---  ------                        --------------  -----  \n",
      " 0   PRIMARY_KEY                   1715 non-null   object \n",
      " 1   STATE                         1715 non-null   object \n",
      " 2   YEAR                          1715 non-null   int64  \n",
      " 3   ENROLL                        1224 non-null   float64\n",
      " 4   TOTAL_REVENUE                 1275 non-null   float64\n",
      " 5   FEDERAL_REVENUE               1275 non-null   float64\n",
      " 6   STATE_REVENUE                 1275 non-null   float64\n",
      " 7   LOCAL_REVENUE                 1275 non-null   float64\n",
      " 8   TOTAL_EXPENDITURE             1275 non-null   float64\n",
      " 9   INSTRUCTION_EXPENDITURE       1275 non-null   float64\n",
      " 10  SUPPORT_SERVICES_EXPENDITURE  1275 non-null   float64\n",
      " 11  OTHER_EXPENDITURE             1224 non-null   float64\n",
      " 12  CAPITAL_OUTLAY_EXPENDITURE    1275 non-null   float64\n",
      " 13  GRADES_PK_G                   1542 non-null   float64\n",
      " 14  GRADES_KG_G                   1632 non-null   float64\n",
      " 15  GRADES_4_G                    1632 non-null   float64\n",
      " 16  GRADES_8_G                    1632 non-null   float64\n",
      " 17  GRADES_12_G                   1632 non-null   float64\n",
      " 18  GRADES_1_8_G                  1020 non-null   float64\n",
      " 19  GRADES_9_12_G                 1071 non-null   float64\n",
      " 20  GRADES_ALL_G                  1632 non-null   float64\n",
      " 21  AVG_MATH_4_SCORE              565 non-null    float64\n",
      " 22  AVG_MATH_8_SCORE              602 non-null    float64\n",
      " 23  AVG_READING_4_SCORE           650 non-null    float64\n",
      " 24  AVG_READING_8_SCORE           562 non-null    float64\n",
      "dtypes: float64(22), int64(1), object(2)\n",
      "memory usage: 335.1+ KB\n"
     ]
    }
   ],
   "source": [
    "dataset.info()"
   ]
  },
  {
   "cell_type": "markdown",
   "id": "d48eb037",
   "metadata": {},
   "source": [
    "### Подсчитаем количество и процент пропусков по столбцам."
   ]
  },
  {
   "cell_type": "code",
   "execution_count": 5,
   "id": "c13b59e3",
   "metadata": {},
   "outputs": [
    {
     "name": "stdout",
     "output_type": "stream",
     "text": [
      "PRIMARY_KEY: 0 - 0.0%\n",
      "STATE: 0 - 0.0%\n",
      "YEAR: 0 - 0.0%\n",
      "ENROLL: 491 - 28.63%\n",
      "TOTAL_REVENUE: 440 - 25.66%\n",
      "FEDERAL_REVENUE: 440 - 25.66%\n",
      "STATE_REVENUE: 440 - 25.66%\n",
      "LOCAL_REVENUE: 440 - 25.66%\n",
      "TOTAL_EXPENDITURE: 440 - 25.66%\n",
      "INSTRUCTION_EXPENDITURE: 440 - 25.66%\n",
      "SUPPORT_SERVICES_EXPENDITURE: 440 - 25.66%\n",
      "OTHER_EXPENDITURE: 491 - 28.63%\n",
      "CAPITAL_OUTLAY_EXPENDITURE: 440 - 25.66%\n",
      "GRADES_PK_G: 173 - 10.09%\n",
      "GRADES_KG_G: 83 - 4.84%\n",
      "GRADES_4_G: 83 - 4.84%\n",
      "GRADES_8_G: 83 - 4.84%\n",
      "GRADES_12_G: 83 - 4.84%\n",
      "GRADES_1_8_G: 695 - 40.52%\n",
      "GRADES_9_12_G: 644 - 37.55%\n",
      "GRADES_ALL_G: 83 - 4.84%\n",
      "AVG_MATH_4_SCORE: 1150 - 67.06%\n",
      "AVG_MATH_8_SCORE: 1113 - 64.9%\n",
      "AVG_READING_4_SCORE: 1065 - 62.1%\n",
      "AVG_READING_8_SCORE: 1153 - 67.23%\n"
     ]
    }
   ],
   "source": [
    "for col in dataset.columns:\n",
    "    pct_missing = np.mean(dataset[col].isnull())\n",
    "    print('{}: {} - {}%'.format(col, dataset[col].isna().sum(), round(pct_missing*100, 2)))"
   ]
  },
  {
   "cell_type": "markdown",
   "id": "3682a78d",
   "metadata": {},
   "source": [
    "### Обработка пропусков.\n",
    "Последние 4 столбца невозможно восстановить из-за слишком большого процента пропусков. Посмотрим на корреляционную матрицу признаков."
   ]
  },
  {
   "cell_type": "code",
   "execution_count": 6,
   "id": "5754ed03",
   "metadata": {},
   "outputs": [
    {
     "data": {
      "text/plain": [
       "<AxesSubplot: >"
      ]
     },
     "execution_count": 6,
     "metadata": {},
     "output_type": "execute_result"
    },
    {
     "data": {
      "image/png": "[encoded data removed]",
      "text/plain": [
       "<Figure size 640x480 with 2 Axes>"
      ]
     },
     "metadata": {},
     "output_type": "display_data"
    }
   ],
   "source": [
    "corr = dataset.corr()\n",
    "sns.heatmap(corr, \n",
    "            xticklabels=corr.columns.values,\n",
    "            yticklabels=corr.columns.values)"
   ]
  },
  {
   "cell_type": "markdown",
   "id": "5bb2156f",
   "metadata": {},
   "source": [
    "Видно, что последние 4 признака не коррелируют с остальными. Так как мы не будем выбирать эти признаки а качестве целевых, их можно вырезать из датасета и не использовать для построения модели. Также удалим столбец PRIMARY_KEY, так как он является первичным ключом и не нужен для построения модели."
   ]
  },
  {
   "cell_type": "code",
   "execution_count": 7,
   "id": "549b6db3",
   "metadata": {},
   "outputs": [],
   "source": [
    "dataset.drop(['PRIMARY_KEY'], axis=1, inplace=True)\n",
    "dataset.drop(['AVG_MATH_4_SCORE', \n",
    "              'AVG_MATH_8_SCORE', \n",
    "              'AVG_READING_4_SCORE', \n",
    "              'AVG_READING_8_SCORE'], axis=1, inplace=True)"
   ]
  },
  {
   "cell_type": "markdown",
   "id": "565241ec",
   "metadata": {},
   "source": [
    "В строках с процентом пропусков >20 заполнение приведет к резкому снижению достоверности. Условия задачи позволяют сократить набор данных, поэтому лучшим решением будет удалить строки с пропусками.\n",
    "\n",
    "По количеству пропусков очевидно, что в столбцах ENROLL, TOTAL_REVENUE, ... CAPITAL_OUTLAY_EXPENDITURE отсутствующие значения находятся на одних и тех же строчках, поэтому достаточно очистить один из этих столбцов.\n",
    "\n",
    "Также почистим пропуски в паре столбцов GRADES_1_8_G и GRADES_9_12_G"
   ]
  },
  {
   "cell_type": "code",
   "execution_count": 8,
   "id": "14b83874",
   "metadata": {},
   "outputs": [],
   "source": [
    "dataset.dropna(subset=['ENROLL'], axis=0, inplace=True)\n",
    "dataset.dropna(subset=['GRADES_1_8_G', 'GRADES_9_12_G'], axis=0, inplace=True)"
   ]
  },
  {
   "cell_type": "code",
   "execution_count": 9,
   "id": "479dca4b",
   "metadata": {},
   "outputs": [
    {
     "name": "stdout",
     "output_type": "stream",
     "text": [
      "GRADES_PK_G: 8 - 0.78%\n"
     ]
    }
   ],
   "source": [
    "for col in dataset.columns:\n",
    "    pct_missing = np.mean(dataset[col].isnull())\n",
    "    if pct_missing > 0:\n",
    "        print('{}: {} - {}%'.format(col, dataset[col].isna().sum(), round(pct_missing*100, 2)))"
   ]
  },
  {
   "cell_type": "markdown",
   "id": "24a124b2",
   "metadata": {},
   "source": [
    "Осталось лишь заполнить пропуски в столбце GRADES_PK_G. Посмотрим гистограмму распределения его значений."
   ]
  },
  {
   "cell_type": "code",
   "execution_count": 10,
   "id": "3f655623",
   "metadata": {},
   "outputs": [
    {
     "data": {
      "text/plain": [
       "<AxesSubplot: ylabel='Frequency'>"
      ]
     },
     "execution_count": 10,
     "metadata": {},
     "output_type": "execute_result"
    },
    {
     "data": {
      "image/png": "[encoded data removed]",
      "text/plain": [
       "<Figure size 640x480 with 1 Axes>"
      ]
     },
     "metadata": {},
     "output_type": "display_data"
    }
   ],
   "source": [
    "dataset['GRADES_PK_G'].plot.hist(bins=50)"
   ]
  },
  {
   "cell_type": "markdown",
   "id": "5f668489",
   "metadata": {},
   "source": [
    "Наиболее оптимальной стратегией в данном случае является заполнение наиболее часто встречающимся значением."
   ]
  },
  {
   "cell_type": "code",
   "execution_count": 11,
   "id": "e3988bfc",
   "metadata": {},
   "outputs": [],
   "source": [
    "imputer = SimpleImputer(strategy='most_frequent', missing_values=nan)\n",
    "imputer = imputer.fit(dataset[['GRADES_PK_G']])\n",
    "dataset['GRADES_PK_G'] = imputer.transform(dataset[['GRADES_PK_G']])"
   ]
  },
  {
   "cell_type": "code",
   "execution_count": 12,
   "id": "72230d05",
   "metadata": {},
   "outputs": [
    {
     "data": {
      "text/plain": [
       "(1020, 20)"
      ]
     },
     "execution_count": 12,
     "metadata": {},
     "output_type": "execute_result"
    }
   ],
   "source": [
    "dataset.shape"
   ]
  },
  {
   "cell_type": "markdown",
   "id": "6c93c974",
   "metadata": {},
   "source": [
    "### Кодирование признаков и разделение выборки.\n",
    "В качестве целевого признака возьмем ENROLL. Закодируем столбец STATE с названиями штатов при помощи LabelEncoder."
   ]
  },
  {
   "cell_type": "code",
   "execution_count": 13,
   "id": "573b3443",
   "metadata": {},
   "outputs": [],
   "source": [
    "le = LabelEncoder()\n",
    "dataset['STATE']= le.fit_transform(dataset['STATE'])"
   ]
  },
  {
   "cell_type": "code",
   "execution_count": 14,
   "id": "064afbca",
   "metadata": {},
   "outputs": [],
   "source": [
    "X = dataset.drop(columns=\"ENROLL\")\n",
    "y = dataset[\"ENROLL\"]"
   ]
  },
  {
   "cell_type": "code",
   "execution_count": 15,
   "id": "0794d7b5",
   "metadata": {},
   "outputs": [],
   "source": [
    "X_train, X_test, y_train, y_test = train_test_split(X, y, test_size = 0.2, random_state = 10)"
   ]
  },
  {
   "cell_type": "markdown",
   "id": "da0ac3c0",
   "metadata": {},
   "source": [
    "### Обучение модели линейной регрессии и оценка её качетва.\n",
    "В качестве метрик возьмём:\n",
    "1) MSE - чтобы подчеркнуть большие ошибки\n",
    "2) Median Absolute Error - чтобы оценить качество модели с устойчивостью к выбросам\n",
    "3) R2 - чтобы точно и наглядно интерпретировать качество модели"
   ]
  },
  {
   "cell_type": "code",
   "execution_count": 16,
   "id": "12278b9a",
   "metadata": {},
   "outputs": [],
   "source": [
    "reg = LinearRegression().fit(X_train, y_train)"
   ]
  },
  {
   "cell_type": "code",
   "execution_count": 17,
   "id": "d19139fe",
   "metadata": {},
   "outputs": [
    {
     "data": {
      "text/plain": [
       "(617608112.5351241, 706205103.8209462)"
      ]
     },
     "execution_count": 17,
     "metadata": {},
     "output_type": "execute_result"
    }
   ],
   "source": [
    "y_pred_test_reg = reg.predict(X_test)\n",
    "y_pred_train_reg = reg.predict(X_train)\n",
    "mse_reg = mean_squared_error(y_train, y_pred_train_reg), mean_squared_error(y_test, y_pred_test_reg)\n",
    "mse_reg"
   ]
  },
  {
   "cell_type": "code",
   "execution_count": 18,
   "id": "03c95074",
   "metadata": {},
   "outputs": [
    {
     "data": {
      "text/plain": [
       "(9091.4630940489, 10168.79657311365)"
      ]
     },
     "execution_count": 18,
     "metadata": {},
     "output_type": "execute_result"
    }
   ],
   "source": [
    "med_reg = median_absolute_error(y_train, y_pred_train_reg), median_absolute_error(y_test, y_pred_test_reg)\n",
    "med_reg"
   ]
  },
  {
   "cell_type": "code",
   "execution_count": 19,
   "id": "8d91fe8b",
   "metadata": {},
   "outputs": [
    {
     "data": {
      "text/plain": [
       "(0.9995102798427169, 0.9992288185054551)"
      ]
     },
     "execution_count": 19,
     "metadata": {},
     "output_type": "execute_result"
    }
   ],
   "source": [
    "r2_reg = r2_score(y_train, y_pred_train_reg), r2_score(y_test, y_pred_test_reg)\n",
    "r2_reg"
   ]
  },
  {
   "cell_type": "markdown",
   "id": "178de415",
   "metadata": {},
   "source": [
    "### Обучение модели случайного леса и оценка её качетва.\n",
    "Метрики аналогичные."
   ]
  },
  {
   "cell_type": "code",
   "execution_count": 20,
   "id": "f3bfd271",
   "metadata": {},
   "outputs": [],
   "source": [
    "rf = RandomForestRegressor(n_estimators=5, oob_score=True, random_state=1).fit(X_train, y_train)"
   ]
  },
  {
   "cell_type": "code",
   "execution_count": 22,
   "id": "19b597c9",
   "metadata": {},
   "outputs": [
    {
     "data": {
      "text/plain": [
       "(0.8872613654792976, 0.11273863452070243)"
      ]
     },
     "execution_count": 22,
     "metadata": {},
     "output_type": "execute_result"
    }
   ],
   "source": [
    "# Out-of-bag error\n",
    "rf.oob_score_, 1-rf.oob_score_"
   ]
  },
  {
   "cell_type": "code",
   "execution_count": 23,
   "id": "d6ce7f0f",
   "metadata": {},
   "outputs": [
    {
     "data": {
      "text/plain": [
       "(134284743.18044087, 551655859.0731376)"
      ]
     },
     "execution_count": 23,
     "metadata": {},
     "output_type": "execute_result"
    }
   ],
   "source": [
    "y_pred_test_rf = rf.predict(X_test)\n",
    "y_pred_train_rf = rf.predict(X_train)\n",
    "mse_rf = mean_squared_error(y_train, y_pred_train_rf), mean_squared_error(y_test, y_pred_test_rf)\n",
    "mse_rf"
   ]
  },
  {
   "cell_type": "code",
   "execution_count": 24,
   "id": "4e7fba44",
   "metadata": {},
   "outputs": [
    {
     "data": {
      "text/plain": [
       "(1730.2000000000116, 4664.800000000003)"
      ]
     },
     "execution_count": 24,
     "metadata": {},
     "output_type": "execute_result"
    }
   ],
   "source": [
    "med_rf = median_absolute_error(y_train, y_pred_train_rf), median_absolute_error(y_test, y_pred_test_rf)\n",
    "med_rf"
   ]
  },
  {
   "cell_type": "code",
   "execution_count": 25,
   "id": "a1c877ff",
   "metadata": {},
   "outputs": [
    {
     "data": {
      "text/plain": [
       "(0.9998935215645386, 0.999397587488999)"
      ]
     },
     "execution_count": 25,
     "metadata": {},
     "output_type": "execute_result"
    }
   ],
   "source": [
    "r2_rf = r2_score(y_train, y_pred_train_rf), r2_score(y_test, y_pred_test_rf)\n",
    "r2_rf"
   ]
  },
  {
   "cell_type": "markdown",
   "id": "8e45acd7",
   "metadata": {},
   "source": [
    "### Сравним качество 2-ух моделей."
   ]
  },
  {
   "cell_type": "code",
   "execution_count": 31,
   "id": "1c1b42b8",
   "metadata": {},
   "outputs": [
    {
     "name": "stdout",
     "output_type": "stream",
     "text": [
      "--------------------------- MSE ---------------------------\n",
      "LinearRegression:  (617608112.5351241, 706205103.8209462)\n",
      "RandomForest:      (134284743.18044087, 551655859.0731376)\n",
      "--------------------------- MedAE -------------------------\n",
      "LinearRegression:  (9091.4630940489, 10168.79657311365)\n",
      "RandomForest:      (1730.2000000000116, 4664.800000000003)\n",
      "--------------------------- R2 ----------------------------\n",
      "LinearRegression:  (0.9995102798427169, 0.9992288185054551)\n",
      "RandomForest:      (0.9998935215645386, 0.999397587488999)\n"
     ]
    }
   ],
   "source": [
    "print('--------------------------- MSE ---------------------------')\n",
    "print('LinearRegression: ', mse_reg)\n",
    "print('RandomForest:     ', mse_rf)\n",
    "print('--------------------------- MedAE -------------------------')\n",
    "print('LinearRegression: ', med_reg)\n",
    "print('RandomForest:     ', med_rf)\n",
    "print('--------------------------- R2 ----------------------------')\n",
    "print('LinearRegression: ', r2_reg)\n",
    "print('RandomForest:     ', r2_rf)"
   ]
  },
  {
   "cell_type": "markdown",
   "id": "9fba3858",
   "metadata": {},
   "source": [
    "### Вывод.\n",
    "Обе модели получились очень точными, что показывает практически единичный коэффициент детерминации.\n",
    "\n",
    "Модель Случайного леса оказалась немного более устойчивой к выбросам в данных, что показывает разница на порядок в метрике MSE, а также в целом немного точнее модели Линейной регрессии, что также показывает метрика MedAE.\n",
    "\n",
    "Такой высокой точности удалось добиться из-за сильной корреляции в признаках выборки, а также из-за малого объёма выборки."
   ]
  },
  {
   "cell_type": "code",
   "execution_count": null,
   "id": "d1909fd0",
   "metadata": {},
   "outputs": [],
   "source": []
  }
 ],
 "metadata": {
  "kernelspec": {
   "display_name": "Python 3 (ipykernel)",
   "language": "python",
   "name": "python3"
  },
  "language_info": {
   "codemirror_mode": {
    "name": "ipython",
    "version": 3
   },
   "file_extension": ".py",
   "mimetype": "text/x-python",
   "name": "python",
   "nbconvert_exporter": "python",
   "pygments_lexer": "ipython3",
   "version": "3.10.9"
  }
 },
 "nbformat": 4,
 "nbformat_minor": 5
}
